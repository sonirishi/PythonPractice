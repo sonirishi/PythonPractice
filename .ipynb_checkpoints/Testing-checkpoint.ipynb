{
 "cells": [
  {
   "cell_type": "code",
   "execution_count": 1,
   "id": "0e07024d",
   "metadata": {},
   "outputs": [],
   "source": [
    "ll = [1,2,3,4,5]"
   ]
  },
  {
   "cell_type": "code",
   "execution_count": 2,
   "id": "88c78c49",
   "metadata": {},
   "outputs": [
    {
     "data": {
      "text/plain": [
       "2"
      ]
     },
     "execution_count": 2,
     "metadata": {},
     "output_type": "execute_result"
    }
   ],
   "source": [
    "ll.index(3)"
   ]
  },
  {
   "cell_type": "code",
   "execution_count": 3,
   "id": "5cd2fcc5",
   "metadata": {},
   "outputs": [],
   "source": [
    "a='rishabh soni'"
   ]
  },
  {
   "cell_type": "code",
   "execution_count": 4,
   "id": "26dad08c",
   "metadata": {},
   "outputs": [
    {
     "data": {
      "text/plain": [
       "2"
      ]
     },
     "execution_count": 4,
     "metadata": {},
     "output_type": "execute_result"
    }
   ],
   "source": [
    "a.count('s')"
   ]
  },
  {
   "cell_type": "code",
   "execution_count": 11,
   "id": "7da7a1a7",
   "metadata": {},
   "outputs": [
    {
     "name": "stdout",
     "output_type": "stream",
     "text": [
      "éàô\n"
     ]
    }
   ],
   "source": [
    "import codecs\n",
    "\n",
    "# byte string to be converted\n",
    "b_string = b'\\xc3\\xa9\\xc3\\xa0\\xc3\\xb4'\n",
    "\n",
    "# decoding the byte string to unicode string\n",
    "u_string = codecs.decode(b_string, 'utf-8')\n",
    "\n",
    "print(u_string)"
   ]
  },
  {
   "cell_type": "code",
   "execution_count": 12,
   "id": "73292991",
   "metadata": {},
   "outputs": [
    {
     "name": "stdout",
     "output_type": "stream",
     "text": [
      "b'\\xc3\\xa9\\xc3\\xa0\\xc3\\xb4'\n"
     ]
    }
   ],
   "source": [
    "print(b_string)"
   ]
  },
  {
   "cell_type": "code",
   "execution_count": 9,
   "id": "93585c9a",
   "metadata": {},
   "outputs": [
    {
     "name": "stdout",
     "output_type": "stream",
     "text": [
      "hello world\n"
     ]
    }
   ],
   "source": [
    "byte_string = b\"hello world\"\n",
    "\n",
    "# Convert the byte string to a string using the decode() method\n",
    "decoded_string = byte_string.decode(\"utf-8\")\n",
    "\n",
    "# Print the decoded string\n",
    "print(decoded_string)"
   ]
  },
  {
   "cell_type": "code",
   "execution_count": 10,
   "id": "96593388",
   "metadata": {},
   "outputs": [
    {
     "name": "stdout",
     "output_type": "stream",
     "text": [
      "b'hello world'\n"
     ]
    }
   ],
   "source": [
    "print(byte_string)"
   ]
  },
  {
   "cell_type": "code",
   "execution_count": null,
   "id": "1d336f44",
   "metadata": {},
   "outputs": [],
   "source": []
  }
 ],
 "metadata": {
  "kernelspec": {
   "display_name": "Python 3 (ipykernel)",
   "language": "python",
   "name": "python3"
  },
  "language_info": {
   "codemirror_mode": {
    "name": "ipython",
    "version": 3
   },
   "file_extension": ".py",
   "mimetype": "text/x-python",
   "name": "python",
   "nbconvert_exporter": "python",
   "pygments_lexer": "ipython3",
   "version": "3.9.6"
  }
 },
 "nbformat": 4,
 "nbformat_minor": 5
}
